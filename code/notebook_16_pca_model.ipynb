{
 "cells": [
  {
   "cell_type": "code",
   "execution_count": 1,
   "id": "0f0ca8ba-d913-45a6-a1ca-82a6bff8d15c",
   "metadata": {},
   "outputs": [
    {
     "name": "stdout",
     "output_type": "stream",
     "text": [
      "Used memory: 4.28\n"
     ]
    }
   ],
   "source": [
    "import os\n",
    "import joblib\n",
    "from datetime import datetime\n",
    "from typing import Dict, Tuple, Any\n",
    "from tqdm import tqdm\n",
    "import pickle\n",
    "from collections import defaultdict\n",
    "import gc\n",
    "\n",
    "import math\n",
    "import numpy as np\n",
    "import pandas as pd\n",
    "\n",
    "from scipy.special import softmax\n",
    "from sklearn.model_selection import train_test_split, StratifiedKFold\n",
    "\n",
    "import cv2\n",
    "import albumentations\n",
    "from torch.utils.data import Dataset\n",
    "\n",
    "import torch\n",
    "import torch.nn as nn\n",
    "import torch.nn.functional as F\n",
    "from torch.nn.parameter import Parameter\n",
    "from torch.autograd import Variable\n",
    "from torch.cuda.amp import autocast, GradScaler\n",
    "from torch.utils.data import DataLoader, Dataset\n",
    "from torch.optim.lr_scheduler import OneCycleLR, ReduceLROnPlateau\n",
    "\n",
    "import lightgbm as lgb\n",
    "\n",
    "import timm\n",
    "\n",
    "from sklearn.decomposition import PCA\n",
    "\n",
    "import psutil\n",
    "def get_used_memory():\n",
    "    return psutil.Process(os.getpid()).memory_info().vms/1024**3\n",
    "def get_used_memory_txt():\n",
    "    return 'Used memory: {:.2f}'.format(get_used_memory())\n",
    "initial_used_memory=get_used_memory()\n",
    "print(get_used_memory_txt())"
   ]
  },
  {
   "cell_type": "code",
   "execution_count": 2,
   "id": "36b98bb6-e608-4e6e-8d6b-82823c9eebf7",
   "metadata": {},
   "outputs": [],
   "source": [
    "arr0 = np.load('./final/new_3.2m_train_landmarks_ensembled_f16.npy')\n",
    "arr1 = np.load('./final/new_115k_non_landmarks_ensembled_f16.npy')\n",
    "arr3 = np.concatenate([arr0, arr1], axis=0)"
   ]
  },
  {
   "cell_type": "code",
   "execution_count": 3,
   "id": "4cbf81db-e027-4f8a-a2d8-6807f3d6d1a3",
   "metadata": {},
   "outputs": [
    {
     "data": {
      "text/plain": [
       "22"
      ]
     },
     "execution_count": 3,
     "metadata": {},
     "output_type": "execute_result"
    }
   ],
   "source": [
    "del arr0, arr1\n",
    "gc.collect()"
   ]
  },
  {
   "cell_type": "code",
   "execution_count": 4,
   "id": "987f903a-585c-4b0c-adab-6e1e83ad7610",
   "metadata": {},
   "outputs": [],
   "source": [
    "pca_model = PCA(n_components=512, whiten=True, random_state=12)"
   ]
  },
  {
   "cell_type": "code",
   "execution_count": 5,
   "id": "5cd1d777-8569-4c69-9173-7e1d221dc451",
   "metadata": {},
   "outputs": [
    {
     "data": {
      "text/plain": [
       "PCA(n_components=512, random_state=12, whiten=True)"
      ]
     },
     "execution_count": 5,
     "metadata": {},
     "output_type": "execute_result"
    }
   ],
   "source": [
    "pca_model.fit(arr3)"
   ]
  },
  {
   "cell_type": "code",
   "execution_count": 6,
   "id": "8ecb5e78-480a-4757-bac0-ab984e822dca",
   "metadata": {},
   "outputs": [
    {
     "data": {
      "text/plain": [
       "['./final/pca_model_YL.pkl']"
      ]
     },
     "execution_count": 6,
     "metadata": {},
     "output_type": "execute_result"
    }
   ],
   "source": [
    "import joblib\n",
    "joblib.dump(pca_model, './final/pca_model_YL.pkl')"
   ]
  }
 ],
 "metadata": {
  "kernelspec": {
   "display_name": "Python 3",
   "language": "python",
   "name": "python3"
  },
  "language_info": {
   "codemirror_mode": {
    "name": "ipython",
    "version": 3
   },
   "file_extension": ".py",
   "mimetype": "text/x-python",
   "name": "python",
   "nbconvert_exporter": "python",
   "pygments_lexer": "ipython3",
   "version": "3.8.10"
  }
 },
 "nbformat": 4,
 "nbformat_minor": 5
}
