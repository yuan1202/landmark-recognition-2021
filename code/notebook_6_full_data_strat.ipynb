{
 "cells": [
  {
   "cell_type": "code",
   "execution_count": 1,
   "id": "0f0ca8ba-d913-45a6-a1ca-82a6bff8d15c",
   "metadata": {},
   "outputs": [],
   "source": [
    "import os\n",
    "from datetime import datetime\n",
    "from typing import Dict, Tuple, Any\n",
    "from tqdm import tqdm\n",
    "import pickle\n",
    "\n",
    "import math\n",
    "import numpy as np\n",
    "import pandas as pd\n",
    "\n",
    "import cv2\n",
    "import albumentations\n",
    "from torch.utils.data import Dataset\n",
    "\n",
    "import torch\n",
    "import torch.nn as nn\n",
    "import torch.nn.functional as F\n",
    "from torch.nn.parameter import Parameter\n",
    "from torch.autograd import Variable\n",
    "from torch.cuda.amp import autocast, GradScaler\n",
    "from torch.utils.data import DataLoader, Dataset\n",
    "from torch.optim.lr_scheduler import OneCycleLR, ReduceLROnPlateau\n",
    "\n",
    "import timm"
   ]
  },
  {
   "cell_type": "code",
   "execution_count": 2,
   "id": "bf69705b-c586-4808-a152-f94863ca5468",
   "metadata": {},
   "outputs": [],
   "source": [
    "# ---------------------------------------\n",
    "# parameters\n",
    "\n",
    "MODEL_DIR = './model_checkpoints/'\n",
    "DATA_DIR = '../input/'\n",
    "LOG_DIR = './logs/'\n",
    "DEVICE = 'cuda:0'\n",
    "MODEL_NAME = 'rexnet_200'\n",
    "\n",
    "TRAIN_STEP = 0\n",
    "FOLD = 0\n",
    "\n",
    "IMAGE_SIZE = 256\n",
    "BATCH_SIZE = 64\n",
    "NUM_EPOCHS = 10\n",
    "NUM_WORKERS = 4\n",
    "LR = 1e-4\n",
    "USE_AMP = True\n"
   ]
  },
  {
   "cell_type": "code",
   "execution_count": 3,
   "id": "179c6ef2-6346-43cd-86f2-cfce6a43cf44",
   "metadata": {},
   "outputs": [],
   "source": [
    "from sklearn.model_selection import train_test_split, StratifiedKFold"
   ]
  },
  {
   "cell_type": "code",
   "execution_count": 12,
   "id": "98d2a3b5-4a2a-46ab-a555-2d149283dcf5",
   "metadata": {},
   "outputs": [
    {
     "data": {
      "text/plain": [
       "(1264376, 3)"
      ]
     },
     "execution_count": 12,
     "metadata": {},
     "output_type": "execute_result"
    }
   ],
   "source": [
    "# dfstd = pd.read_csv(os.path.join(DATA_DIR, 'train_0.csv'))\n",
    "dfstd.loc[dfstd['fold'] != 0].shape"
   ]
  },
  {
   "cell_type": "code",
   "execution_count": 4,
   "id": "fdbcbfaf-5982-4726-96b6-c3aec761406e",
   "metadata": {},
   "outputs": [],
   "source": [
    "dffull = pd.read_csv(os.path.join(DATA_DIR, 'train_full.csv'))"
   ]
  },
  {
   "cell_type": "code",
   "execution_count": 8,
   "id": "37fba98c-a915-46a8-8076-1f10bff21716",
   "metadata": {},
   "outputs": [
    {
     "data": {
      "text/plain": [
       "(4132914, 3)"
      ]
     },
     "execution_count": 8,
     "metadata": {},
     "output_type": "execute_result"
    }
   ],
   "source": [
    "dffull.shape"
   ]
  },
  {
   "cell_type": "code",
   "execution_count": 5,
   "id": "ec96e600-e2bb-4566-b417-113617f5b9ab",
   "metadata": {},
   "outputs": [
    {
     "data": {
      "text/plain": [
       "203094"
      ]
     },
     "execution_count": 5,
     "metadata": {},
     "output_type": "execute_result"
    }
   ],
   "source": [
    "dffull['landmark_id'].nunique()"
   ]
  },
  {
   "cell_type": "code",
   "execution_count": 13,
   "id": "426af16b-946a-478a-ab98-704b017d3628",
   "metadata": {},
   "outputs": [],
   "source": [
    "lm, cnt = np.unique(dffull['landmark_id'], return_counts=True)"
   ]
  },
  {
   "cell_type": "code",
   "execution_count": 19,
   "id": "1477e4d6-731d-4f6d-856a-1bf12b5a9b64",
   "metadata": {},
   "outputs": [],
   "source": [
    "skf = StratifiedKFold(50, shuffle=True, random_state=233)"
   ]
  },
  {
   "cell_type": "code",
   "execution_count": 20,
   "id": "c4dbed1e-dc18-407c-bc4a-303d3b14915a",
   "metadata": {},
   "outputs": [
    {
     "name": "stderr",
     "output_type": "stream",
     "text": [
      "/home/yuan/miniconda3/envs/FULL_ML/lib/python3.8/site-packages/sklearn/model_selection/_split.py:666: UserWarning: The least populated class in y has only 1 members, which is less than n_splits=50.\n",
      "  warnings.warn((\"The least populated class in y has only %d\"\n"
     ]
    }
   ],
   "source": [
    "dffull['fold'] = -1\n",
    "for i, (train_idx, valid_idx) in enumerate(skf.split(dffull, dffull['landmark_id'])):\n",
    "    dffull.loc[valid_idx, 'fold'] = i\n",
    "    break"
   ]
  },
  {
   "cell_type": "code",
   "execution_count": 23,
   "id": "6cc4b9bd-2892-4b05-b516-fdca1bdd07cc",
   "metadata": {},
   "outputs": [],
   "source": [
    "dffull.drop(columns=['url'], inplace=True)"
   ]
  },
  {
   "cell_type": "code",
   "execution_count": 24,
   "id": "a95ee115-e1f1-4191-8a44-11228b27ece7",
   "metadata": {},
   "outputs": [
    {
     "data": {
      "text/html": [
       "<div>\n",
       "<style scoped>\n",
       "    .dataframe tbody tr th:only-of-type {\n",
       "        vertical-align: middle;\n",
       "    }\n",
       "\n",
       "    .dataframe tbody tr th {\n",
       "        vertical-align: top;\n",
       "    }\n",
       "\n",
       "    .dataframe thead th {\n",
       "        text-align: right;\n",
       "    }\n",
       "</style>\n",
       "<table border=\"1\" class=\"dataframe\">\n",
       "  <thead>\n",
       "    <tr style=\"text-align: right;\">\n",
       "      <th></th>\n",
       "      <th>id</th>\n",
       "      <th>landmark_id</th>\n",
       "      <th>fold</th>\n",
       "    </tr>\n",
       "  </thead>\n",
       "  <tbody>\n",
       "    <tr>\n",
       "      <th>0</th>\n",
       "      <td>6e158a47eb2ca3f6</td>\n",
       "      <td>142820</td>\n",
       "      <td>-1</td>\n",
       "    </tr>\n",
       "    <tr>\n",
       "      <th>1</th>\n",
       "      <td>202cd79556f30760</td>\n",
       "      <td>104169</td>\n",
       "      <td>-1</td>\n",
       "    </tr>\n",
       "    <tr>\n",
       "      <th>2</th>\n",
       "      <td>3ad87684c99c06e1</td>\n",
       "      <td>37914</td>\n",
       "      <td>-1</td>\n",
       "    </tr>\n",
       "    <tr>\n",
       "      <th>3</th>\n",
       "      <td>e7f70e9c61e66af3</td>\n",
       "      <td>102140</td>\n",
       "      <td>-1</td>\n",
       "    </tr>\n",
       "    <tr>\n",
       "      <th>4</th>\n",
       "      <td>4072182eddd0100e</td>\n",
       "      <td>2474</td>\n",
       "      <td>-1</td>\n",
       "    </tr>\n",
       "  </tbody>\n",
       "</table>\n",
       "</div>"
      ],
      "text/plain": [
       "                 id  landmark_id  fold\n",
       "0  6e158a47eb2ca3f6       142820    -1\n",
       "1  202cd79556f30760       104169    -1\n",
       "2  3ad87684c99c06e1        37914    -1\n",
       "3  e7f70e9c61e66af3       102140    -1\n",
       "4  4072182eddd0100e         2474    -1"
      ]
     },
     "execution_count": 24,
     "metadata": {},
     "output_type": "execute_result"
    }
   ],
   "source": [
    "dffull.head()"
   ]
  },
  {
   "cell_type": "code",
   "execution_count": 27,
   "id": "4c5ec3c1-f750-47c1-b879-2e993fcb2e2c",
   "metadata": {},
   "outputs": [
    {
     "data": {
      "text/html": [
       "<div>\n",
       "<style scoped>\n",
       "    .dataframe tbody tr th:only-of-type {\n",
       "        vertical-align: middle;\n",
       "    }\n",
       "\n",
       "    .dataframe tbody tr th {\n",
       "        vertical-align: top;\n",
       "    }\n",
       "\n",
       "    .dataframe thead th {\n",
       "        text-align: right;\n",
       "    }\n",
       "</style>\n",
       "<table border=\"1\" class=\"dataframe\">\n",
       "  <thead>\n",
       "    <tr style=\"text-align: right;\">\n",
       "      <th></th>\n",
       "      <th>id</th>\n",
       "      <th>landmark_id</th>\n",
       "      <th>fold</th>\n",
       "    </tr>\n",
       "  </thead>\n",
       "  <tbody>\n",
       "    <tr>\n",
       "      <th>24</th>\n",
       "      <td>f1556e1eeeba213f</td>\n",
       "      <td>36639</td>\n",
       "      <td>0</td>\n",
       "    </tr>\n",
       "    <tr>\n",
       "      <th>55</th>\n",
       "      <td>c183025976644be3</td>\n",
       "      <td>175201</td>\n",
       "      <td>0</td>\n",
       "    </tr>\n",
       "    <tr>\n",
       "      <th>78</th>\n",
       "      <td>33aab955d639297d</td>\n",
       "      <td>188405</td>\n",
       "      <td>0</td>\n",
       "    </tr>\n",
       "    <tr>\n",
       "      <th>143</th>\n",
       "      <td>5bf3cc38f1983c07</td>\n",
       "      <td>110444</td>\n",
       "      <td>0</td>\n",
       "    </tr>\n",
       "    <tr>\n",
       "      <th>157</th>\n",
       "      <td>f29fbc306218b459</td>\n",
       "      <td>38921</td>\n",
       "      <td>0</td>\n",
       "    </tr>\n",
       "    <tr>\n",
       "      <th>...</th>\n",
       "      <td>...</td>\n",
       "      <td>...</td>\n",
       "      <td>...</td>\n",
       "    </tr>\n",
       "    <tr>\n",
       "      <th>4132662</th>\n",
       "      <td>9bc9895227a67d07</td>\n",
       "      <td>67895</td>\n",
       "      <td>0</td>\n",
       "    </tr>\n",
       "    <tr>\n",
       "      <th>4132784</th>\n",
       "      <td>181eb4579fd365ae</td>\n",
       "      <td>178422</td>\n",
       "      <td>0</td>\n",
       "    </tr>\n",
       "    <tr>\n",
       "      <th>4132791</th>\n",
       "      <td>a01fccca4566b5db</td>\n",
       "      <td>54526</td>\n",
       "      <td>0</td>\n",
       "    </tr>\n",
       "    <tr>\n",
       "      <th>4132830</th>\n",
       "      <td>e33de801236df2f9</td>\n",
       "      <td>194957</td>\n",
       "      <td>0</td>\n",
       "    </tr>\n",
       "    <tr>\n",
       "      <th>4132876</th>\n",
       "      <td>7cb8b664d8715d1d</td>\n",
       "      <td>24224</td>\n",
       "      <td>0</td>\n",
       "    </tr>\n",
       "  </tbody>\n",
       "</table>\n",
       "<p>82659 rows × 3 columns</p>\n",
       "</div>"
      ],
      "text/plain": [
       "                       id  landmark_id  fold\n",
       "24       f1556e1eeeba213f        36639     0\n",
       "55       c183025976644be3       175201     0\n",
       "78       33aab955d639297d       188405     0\n",
       "143      5bf3cc38f1983c07       110444     0\n",
       "157      f29fbc306218b459        38921     0\n",
       "...                   ...          ...   ...\n",
       "4132662  9bc9895227a67d07        67895     0\n",
       "4132784  181eb4579fd365ae       178422     0\n",
       "4132791  a01fccca4566b5db        54526     0\n",
       "4132830  e33de801236df2f9       194957     0\n",
       "4132876  7cb8b664d8715d1d        24224     0\n",
       "\n",
       "[82659 rows x 3 columns]"
      ]
     },
     "execution_count": 27,
     "metadata": {},
     "output_type": "execute_result"
    }
   ],
   "source": [
    "dffull.loc[dffull['fold'] == 0]"
   ]
  },
  {
   "cell_type": "code",
   "execution_count": 34,
   "id": "f9e53942-8fcd-4e50-9aef-a1224bce1b3b",
   "metadata": {},
   "outputs": [],
   "source": [
    "vld_df = dffull.loc[dffull['fold'] == 0, 'landmark_id']"
   ]
  },
  {
   "cell_type": "code",
   "execution_count": 37,
   "id": "5987c49d-14e5-4af0-92e3-f9504c2dc00b",
   "metadata": {},
   "outputs": [],
   "source": [
    "lm, cnt = np.unique(vld_df, return_counts=True)"
   ]
  },
  {
   "cell_type": "code",
   "execution_count": 43,
   "id": "1fd9fe79-9457-46b6-8076-0c378543f44a",
   "metadata": {},
   "outputs": [
    {
     "data": {
      "text/plain": [
       "205"
      ]
     },
     "execution_count": 43,
     "metadata": {},
     "output_type": "execute_result"
    }
   ],
   "source": [
    "cnt.max()"
   ]
  },
  {
   "cell_type": "code",
   "execution_count": 45,
   "id": "7dc06526-565d-4c51-95f0-80b27a4a5546",
   "metadata": {},
   "outputs": [],
   "source": [
    "dffull.to_csv(os.path.join(DATA_DIR, 'train_full_fold.csv'))"
   ]
  }
 ],
 "metadata": {
  "kernelspec": {
   "display_name": "Python 3",
   "language": "python",
   "name": "python3"
  },
  "language_info": {
   "codemirror_mode": {
    "name": "ipython",
    "version": 3
   },
   "file_extension": ".py",
   "mimetype": "text/x-python",
   "name": "python",
   "nbconvert_exporter": "python",
   "pygments_lexer": "ipython3",
   "version": "3.8.10"
  }
 },
 "nbformat": 4,
 "nbformat_minor": 5
}
