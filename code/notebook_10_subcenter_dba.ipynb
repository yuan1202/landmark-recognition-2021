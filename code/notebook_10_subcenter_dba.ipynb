{
 "cells": [
  {
   "cell_type": "code",
   "execution_count": 2,
   "metadata": {
    "_cell_guid": "b1076dfc-b9ad-4769-8c92-a6c4dae69d19",
    "_uuid": "8f2839f25d086af736a60e9eeb907d3b93b6e0e5",
    "tags": []
   },
   "outputs": [],
   "source": [
    "# This Python 3 environment comes with many helpful analytics libraries installed\n",
    "# It is defined by the kaggle/python Docker image: https://github.com/kaggle/docker-python\n",
    "# For example, here's several helpful packages to load\n",
    "\n",
    "# Input data files are available in the read-only \"../input/\" directory\n",
    "# For example, running this (by clicking run or pressing Shift+Enter) will list all files under the input directory\n",
    "\n",
    "# You can write up to 20GB to the current directory (/kaggle/working/) that gets preserved as output when you create a version using \"Save & Run All\" \n",
    "# You can also write temporary files to /kaggle/temp/, but they won't be saved outside of the current session\n",
    "\n",
    "\n",
    "import os\n",
    "\n",
    "import pickle\n",
    "import random\n",
    "from datetime import datetime\n",
    "from typing import Dict, Tuple, Any\n",
    "import gc\n",
    "from tqdm import tqdm\n",
    "\n",
    "import math\n",
    "\n",
    "import numpy as np # linear algebra\n",
    "np.set_printoptions(precision=6, suppress=True)\n",
    "import pandas as pd # data processing, CSV file I/O (e.g. pd.read_csv)\n",
    "\n",
    "from sklearn.preprocessing import QuantileTransformer\n",
    "\n",
    "import cv2\n",
    "import albumentations\n",
    "from torch.utils.data import Dataset\n",
    "\n",
    "import torch\n",
    "import torch.nn as nn\n",
    "import torch.nn.functional as F\n",
    "from torch.nn.parameter import Parameter\n",
    "from torch.autograd import Variable\n",
    "from torch.cuda.amp import autocast, GradScaler\n",
    "from torch.utils.data import DataLoader, Dataset\n",
    "\n",
    "import timm\n",
    "\n",
    "from sklearn.preprocessing import normalize"
   ]
  },
  {
   "cell_type": "code",
   "execution_count": 3,
   "metadata": {
    "tags": []
   },
   "outputs": [],
   "source": [
    "BATCH_SIZE = 48\n",
    "NUM_WORKERS = 0\n",
    "EMBED_SIZE = 512\n",
    "# 1/sqrt(2)\n",
    "IMAGE_SIZE0 = int(np.round(600 * 0.70710677).item())\n",
    "# 1\n",
    "IMAGE_SIZE1 = 600\n",
    "# sqrt(2)\n",
    "IMAGE_SIZE2 = int(np.round(600 * 1.4142135).item())\n",
    "\n",
    "DATA_DIR = '../input/'\n",
    "\n",
    "MODEL_DIR = './model_checkpoints/'\n",
    "MODEL_NAME = 'effnetv2m_in21k_fold2_epoch8.pth'\n",
    "\n",
    "EMBEDDING_DIR = './embeddings'\n",
    "TRAIN_EMBEDDING = 'effnetv2m_in21k_fold2_epoch8_embeddings.npy'\n",
    "NONLM_EMBEDDING = 'effnetv2m_in21k_fold2_epoch8_test2019nonlandmark_embeddings.npy'\n",
    "TRAIN_LABELS = 'trainfullfiltered_embeddings_targets.npy'"
   ]
  },
  {
   "cell_type": "code",
   "execution_count": 4,
   "metadata": {
    "tags": []
   },
   "outputs": [],
   "source": [
    "def cos_similarity_matrix(a, b, eps=1e-8):\n",
    "    a_n, b_n = a.norm(dim=1)[:, None], b.norm(dim=1)[:, None]\n",
    "    a_norm = a / torch.max(a_n, eps * torch.ones_like(a_n))\n",
    "    b_norm = b / torch.max(b_n, eps * torch.ones_like(b_n))\n",
    "    sim_mt = torch.mm(a_norm, b_norm.transpose(0, 1))\n",
    "    return sim_mt\n",
    "\n",
    "def get_topk_cossim(test_emb_in, tr_emb_in, batchsize=128, k=10, device='cuda:0', verbose=True):\n",
    "    \n",
    "    tr_emb = torch.tensor(tr_emb_in, dtype=torch.float16, device=torch.device(device))\n",
    "    \n",
    "    num_test_batches = np.ceil(test_emb_in.shape[0] / batchsize).astype('int')\n",
    "    \n",
    "    vals = []\n",
    "    inds = []\n",
    "    \n",
    "    for i in tqdm(range(num_test_batches), disable=1-verbose):\n",
    "        \n",
    "        test_batch = torch.tensor(test_emb_in[i*batchsize : (i+1)*batchsize], dtype=torch.float16, device=torch.device(device))\n",
    "        \n",
    "        sim_mat = cos_similarity_matrix(test_batch, tr_emb)\n",
    "        vals_batch, inds_batch = torch.topk(sim_mat, k=k, dim=1)\n",
    "        \n",
    "        vals += [vals_batch.detach().cpu()]\n",
    "        inds += [inds_batch.detach().cpu()]\n",
    "    \n",
    "    vals = torch.cat(vals)\n",
    "    inds = torch.cat(inds)\n",
    "    \n",
    "    del tr_emb, test_batch, vals_batch, inds_batch, sim_mat\n",
    "    \n",
    "    return vals, inds\n",
    "\n",
    "def get_topk_cossim_sub(test_emb_in, tr_emb_in, vals_x_in, batchsize=128, k=10, device='cuda:0',verbose=True):\n",
    "    \n",
    "    tr_emb = torch.tensor(tr_emb_in, dtype=torch.float16, device=torch.device(device))\n",
    "    vals_x = torch.tensor(vals_x_in, dtype=torch.float16, device=torch.device(device))\n",
    "    \n",
    "    num_test_batches = np.ceil(test_emb_in.shape[0] / batchsize).astype('int')\n",
    "    \n",
    "    vals = []\n",
    "    inds = []\n",
    "    \n",
    "    for i in tqdm(range(num_test_batches), disable=1-verbose):\n",
    "        \n",
    "        test_batch = torch.tensor(test_emb_in[i*batchsize : (i+1)*batchsize], dtype=torch.float16, device=torch.device(device))\n",
    "        \n",
    "        sim_mat = cos_similarity_matrix(test_batch, tr_emb)\n",
    "        sim_mat = torch.clamp(sim_mat, 0, 1) - vals_x.repeat(sim_mat.shape[0], 1)\n",
    "        vals_batch, inds_batch = torch.topk(sim_mat, k=k, dim=1)\n",
    "        \n",
    "        vals += [vals_batch.detach().cpu()]\n",
    "        inds += [inds_batch.detach().cpu()]\n",
    "    \n",
    "    vals = torch.cat(vals)\n",
    "    inds = torch.cat(inds)\n",
    "    \n",
    "    del tr_emb, vals_x, test_batch, vals_batch, inds_batch, sim_mat\n",
    "    \n",
    "    return vals, inds"
   ]
  },
  {
   "cell_type": "code",
   "execution_count": 5,
   "metadata": {
    "tags": []
   },
   "outputs": [
    {
     "data": {
      "text/plain": [
       "0"
      ]
     },
     "execution_count": 5,
     "metadata": {},
     "output_type": "execute_result"
    }
   ],
   "source": [
    "with open('../input/glr2021-idx2landmarks/idx2landmark_id.pkl', 'rb') as f:\n",
    "    idx2lm = pickle.load(f)\n",
    "\n",
    "load = torch.load(os.path.join(MODEL_DIR, MODEL_NAME))\n",
    "arc_centers = load['model_state_dict']['module.metric_classify.weight'].cpu().numpy()\n",
    "arc_centers = normalize(arc_centers)\n",
    "\n",
    "del load\n",
    "gc.collect()\n",
    "\n",
    "embedding_train = np.load(os.path.join(EMBEDDING_DIR_NEW, TRAIN_EMBEDDING))"
   ]
  },
  {
   "cell_type": "code",
   "execution_count": 8,
   "metadata": {
    "execution": {
     "iopub.execute_input": "2021-09-23T22:41:59.174856Z",
     "iopub.status.busy": "2021-09-23T22:41:59.174469Z",
     "iopub.status.idle": "2021-09-23T22:47:53.340281Z",
     "shell.execute_reply": "2021-09-23T22:47:53.338785Z",
     "shell.execute_reply.started": "2021-09-23T22:41:59.174826Z"
    }
   },
   "outputs": [
    {
     "name": "stderr",
     "output_type": "stream",
     "text": [
      "100%|██████████| 1906/1906 [05:53<00:00,  5.39it/s]\n"
     ]
    }
   ],
   "source": [
    "train_topK_similarities, train_topK_indices  = get_topk_cossim(arc_centers, embedding_train, k=10)"
   ]
  },
  {
   "cell_type": "code",
   "execution_count": 20,
   "metadata": {
    "execution": {
     "iopub.execute_input": "2021-09-23T23:11:54.005567Z",
     "iopub.status.busy": "2021-09-23T23:11:54.005167Z",
     "iopub.status.idle": "2021-09-23T23:11:54.077276Z",
     "shell.execute_reply": "2021-09-23T23:11:54.076214Z",
     "shell.execute_reply.started": "2021-09-23T23:11:54.005508Z"
    }
   },
   "outputs": [],
   "source": []
  },
  {
   "cell_type": "code",
   "execution_count": 22,
   "metadata": {
    "execution": {
     "iopub.execute_input": "2021-09-23T23:12:07.442259Z",
     "iopub.status.busy": "2021-09-23T23:12:07.441869Z",
     "iopub.status.idle": "2021-09-23T23:12:07.451325Z",
     "shell.execute_reply": "2021-09-23T23:12:07.449457Z",
     "shell.execute_reply.started": "2021-09-23T23:12:07.442223Z"
    }
   },
   "outputs": [
    {
     "data": {
      "text/plain": [
       "81313"
      ]
     },
     "execution_count": 22,
     "metadata": {},
     "output_type": "execute_result"
    }
   ],
   "source": [
    "len(idx2lm)"
   ]
  },
  {
   "cell_type": "code",
   "execution_count": 15,
   "metadata": {
    "execution": {
     "iopub.execute_input": "2021-09-23T22:49:30.153811Z",
     "iopub.status.busy": "2021-09-23T22:49:30.153346Z",
     "iopub.status.idle": "2021-09-23T22:49:30.165328Z",
     "shell.execute_reply": "2021-09-23T22:49:30.163513Z",
     "shell.execute_reply.started": "2021-09-23T22:49:30.153734Z"
    }
   },
   "outputs": [
    {
     "data": {
      "text/plain": [
       "tensor([0.2057, 0.2018, 0.1957, 0.1934, 0.1925, 0.1909, 0.1907, 0.1901, 0.1896,\n",
       "        0.1885], dtype=torch.float16)"
      ]
     },
     "execution_count": 15,
     "metadata": {},
     "output_type": "execute_result"
    }
   ],
   "source": [
    "vals_nl[1]"
   ]
  },
  {
   "cell_type": "code",
   "execution_count": 17,
   "metadata": {
    "execution": {
     "iopub.execute_input": "2021-09-23T22:54:58.670675Z",
     "iopub.status.busy": "2021-09-23T22:54:58.670303Z",
     "iopub.status.idle": "2021-09-23T22:54:58.679239Z",
     "shell.execute_reply": "2021-09-23T22:54:58.677632Z",
     "shell.execute_reply.started": "2021-09-23T22:54:58.670635Z"
    }
   },
   "outputs": [
    {
     "data": {
      "text/plain": [
       "tensor([ 262905, 2719220, 1656025, 1543719, 2193735, 1333143, 1366152, 2678412,\n",
       "        1291678, 2076371])"
      ]
     },
     "execution_count": 17,
     "metadata": {},
     "output_type": "execute_result"
    }
   ],
   "source": [
    "inds_nl[2]"
   ]
  },
  {
   "cell_type": "code",
   "execution_count": null,
   "metadata": {},
   "outputs": [],
   "source": [
    "vals_nl.shape"
   ]
  }
 ],
 "metadata": {
  "kernelspec": {
   "display_name": "Python 3",
   "language": "python",
   "name": "python3"
  },
  "language_info": {
   "codemirror_mode": {
    "name": "ipython",
    "version": 3
   },
   "file_extension": ".py",
   "mimetype": "text/x-python",
   "name": "python",
   "nbconvert_exporter": "python",
   "pygments_lexer": "ipython3",
   "version": "3.8.10"
  }
 },
 "nbformat": 4,
 "nbformat_minor": 4
}
