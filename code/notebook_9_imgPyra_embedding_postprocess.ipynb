{
 "cells": [
  {
   "cell_type": "code",
   "execution_count": 1,
   "id": "0f0ca8ba-d913-45a6-a1ca-82a6bff8d15c",
   "metadata": {},
   "outputs": [],
   "source": [
    "import os\n",
    "\n",
    "import random\n",
    "from datetime import datetime\n",
    "from typing import Dict, Tuple, Any\n",
    "import pickle\n",
    "from tqdm import tqdm\n",
    "\n",
    "import math\n",
    "\n",
    "import numpy as np # linear algebra\n",
    "import pandas as pd # data processing, CSV file I/O (e.g. pd.read_csv)\n",
    "\n",
    "import cv2\n",
    "import albumentations\n",
    "from torch.utils.data import Dataset\n",
    "\n",
    "import torch\n",
    "import torch.nn as nn\n",
    "import torch.nn.functional as F\n",
    "from torch.nn.parameter import Parameter\n",
    "from torch.autograd import Variable\n",
    "from torch.cuda.amp import autocast, GradScaler\n",
    "from torch.utils.data import DataLoader, Dataset\n",
    "\n",
    "import timm"
   ]
  },
  {
   "cell_type": "code",
   "execution_count": 2,
   "id": "2d090a81-2cc1-42f1-8dff-83bc19a80571",
   "metadata": {},
   "outputs": [],
   "source": [
    "low = np.load('./embeddings/effnetv2m_in21k_fold2_epoch8_test2019nonlandmark_embeddings_3scales_low.npy')\n",
    "mid = np.load('./embeddings/effnetv2m_in21k_fold2_epoch8_test2019nonlandmark_embeddings_3scales_mid.npy')\n",
    "high = np.load('./embeddings/effnetv2m_in21k_fold2_epoch8_test2019nonlandmark_embeddings_3scales_high.npy')"
   ]
  },
  {
   "cell_type": "code",
   "execution_count": 3,
   "id": "d243d263-1a2d-4a0f-a9dc-de6a32ef0eb0",
   "metadata": {},
   "outputs": [],
   "source": [
    "from sklearn.preprocessing import normalize"
   ]
  },
  {
   "cell_type": "code",
   "execution_count": 4,
   "id": "7aae1513-0f5b-4a10-8e89-446b71449db8",
   "metadata": {},
   "outputs": [],
   "source": [
    "embedding = low + mid + high"
   ]
  },
  {
   "cell_type": "code",
   "execution_count": 5,
   "id": "c30e6b71-df87-4ccc-bc87-059f5bd3e5c9",
   "metadata": {},
   "outputs": [],
   "source": [
    "embedding = normalize(embedding)"
   ]
  },
  {
   "cell_type": "code",
   "execution_count": 6,
   "id": "6eb276bc-e082-4138-911d-1602ad630cb4",
   "metadata": {},
   "outputs": [],
   "source": [
    "np.save(\"./embeddings/effnetv2m_in21k_fold2_epoch8_test2019nonlandmark_embeddings_3scales_merged.npy\", embedding)"
   ]
  }
 ],
 "metadata": {
  "kernelspec": {
   "display_name": "Python 3",
   "language": "python",
   "name": "python3"
  },
  "language_info": {
   "codemirror_mode": {
    "name": "ipython",
    "version": 3
   },
   "file_extension": ".py",
   "mimetype": "text/x-python",
   "name": "python",
   "nbconvert_exporter": "python",
   "pygments_lexer": "ipython3",
   "version": "3.8.10"
  }
 },
 "nbformat": 4,
 "nbformat_minor": 5
}
