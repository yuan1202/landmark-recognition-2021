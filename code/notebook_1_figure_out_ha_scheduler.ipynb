{
 "cells": [
  {
   "cell_type": "code",
   "execution_count": 1,
   "id": "0f0ca8ba-d913-45a6-a1ca-82a6bff8d15c",
   "metadata": {},
   "outputs": [],
   "source": [
    "import os\n",
    "from datetime import datetime\n",
    "from typing import Dict, Tuple, Any\n",
    "from tqdm import tqdm\n",
    "\n",
    "import math\n",
    "import numpy as np\n",
    "import pandas as pd\n",
    "\n",
    "import cv2\n",
    "import albumentations\n",
    "import matplotlib.pyplot as plt\n",
    "\n",
    "from torch.utils.data import Dataset\n",
    "\n",
    "import torch\n",
    "import torch.nn as nn\n",
    "import torch.nn.functional as F\n",
    "from torch.nn.parameter import Parameter\n",
    "from torch.autograd import Variable\n",
    "from torch.cuda.amp import autocast, GradScaler\n",
    "from torch.utils.data import DataLoader, Dataset\n",
    "from torch.optim.lr_scheduler import OneCycleLR, ReduceLROnPlateau\n",
    "\n",
    "import timm\n",
    "\n",
    "from warmup_scheduler import GradualWarmupScheduler"
   ]
  },
  {
   "cell_type": "code",
   "execution_count": 2,
   "id": "bf69705b-c586-4808-a152-f94863ca5468",
   "metadata": {},
   "outputs": [],
   "source": [
    "class GradualWarmupSchedulerV2(GradualWarmupScheduler):\n",
    "    def __init__(self, optimizer, multiplier, total_epoch, after_scheduler=None):\n",
    "        super(GradualWarmupSchedulerV2, self).__init__(optimizer, multiplier, total_epoch, after_scheduler)\n",
    "    def get_lr(self):\n",
    "        if self.last_epoch > self.total_epoch:\n",
    "            if self.after_scheduler:\n",
    "                if not self.finished:\n",
    "                    self.after_scheduler.base_lrs = [base_lr * self.multiplier for base_lr in self.base_lrs]\n",
    "                    self.finished = True\n",
    "                return self.after_scheduler.get_lr()\n",
    "            return [base_lr * self.multiplier for base_lr in self.base_lrs]\n",
    "        if self.multiplier == 1.0:\n",
    "            return [base_lr * (float(self.last_epoch) / self.total_epoch) for base_lr in self.base_lrs]\n",
    "        else:\n",
    "            return [base_lr * ((self.multiplier - 1.) * self.last_epoch / self.total_epoch + 1.) for base_lr in self.base_lrs]"
   ]
  },
  {
   "cell_type": "code",
   "execution_count": 11,
   "id": "f477e836-0415-42e1-8b4d-531f5007f20f",
   "metadata": {},
   "outputs": [],
   "source": [
    "del model, optimizer_ha, scheduler_cosine, scheduler_ha, optimizer_std, scheduler_std"
   ]
  },
  {
   "cell_type": "code",
   "execution_count": 8,
   "id": "a0a8a088-bb55-4f8c-83c9-68dcd8607fd4",
   "metadata": {},
   "outputs": [],
   "source": [
    "n_epochs = 100\n",
    "n_steps = 10\n",
    "model = nn.Linear(10, 20)\n",
    "optimizer_ha = torch.optim.Adam(model.parameters(), lr=1)\n",
    "scheduler_cosine = torch.optim.lr_scheduler.CosineAnnealingWarmRestarts(optimizer_ha, T_0=1)\n",
    "scheduler_ha = GradualWarmupSchedulerV2(optimizer_ha, multiplier=10, total_epoch=n_epochs, after_scheduler=scheduler_cosine)\n",
    "optimizer_std = torch.optim.Adam(model.parameters(), lr=1)\n",
    "scheduler_std = OneCycleLR(optimizer_std, max_lr=1, steps_per_epoch=n_steps, pct_start=0.1, epochs=n_epochs)"
   ]
  },
  {
   "cell_type": "code",
   "execution_count": 9,
   "id": "a418035f-07d8-4888-a104-42d6dba264b0",
   "metadata": {},
   "outputs": [],
   "source": [
    "ha_history = []\n",
    "std_history = []\n",
    "\n",
    "for epoch in range(n_epochs):\n",
    "    scheduler_ha.step(epoch)\n",
    "    for _ in range(n_steps):\n",
    "        scheduler_std.step()\n",
    "        ha_history.append(optimizer_ha.param_groups[0][\"lr\"])\n",
    "        std_history.append(optimizer_std.param_groups[0][\"lr\"])"
   ]
  },
  {
   "cell_type": "code",
   "execution_count": 10,
   "id": "441bda1f-ad46-47d2-aa25-4b04732a4150",
   "metadata": {},
   "outputs": [
    {
     "data": {
      "text/plain": [
       "[<matplotlib.lines.Line2D at 0x7f7ed002d1f0>]"
      ]
     },
     "execution_count": 10,
     "metadata": {},
     "output_type": "execute_result"
    },
    {
     "data": {
      "image/png": "[encoded data removed]",
      "text/plain": [
       "<Figure size 1008x504 with 1 Axes>"
      ]
     },
     "metadata": {
      "needs_background": "light"
     },
     "output_type": "display_data"
    }
   ],
   "source": [
    "_, ax = plt.subplots(1, 1, figsize=(14, 7))\n",
    "ax.plot(ha_history, c='r')\n",
    "ax.plot(std_history, c='g')"
   ]
  },
  {
   "cell_type": "code",
   "execution_count": null,
   "id": "2f9a7ca9-391e-4148-ae58-5a4be5335ba7",
   "metadata": {},
   "outputs": [],
   "source": [
    "del model, optimizer_ha, scheduler_cosine, scheduler_ha, optimizer_std, scheduler_std"
   ]
  },
  {
   "cell_type": "code",
   "execution_count": 8,
   "id": "69fc9929-a408-45c4-9d08-7291bf44a9cd",
   "metadata": {},
   "outputs": [],
   "source": [
    "n_epochs = 100\n",
    "n_steps = 10\n",
    "model = nn.Linear(10, 20)\n",
    "optimizer_ha = torch.optim.Adam(model.parameters(), lr=1)\n",
    "scheduler_cosine = torch.optim.lr_scheduler.CosineAnnealingWarmRestarts(optimizer_ha, T_0=1)\n",
    "scheduler_ha = GradualWarmupSchedulerV2(optimizer_ha, multiplier=10, total_epoch=n_epochs, after_scheduler=scheduler_cosine)"
   ]
  }
 ],
 "metadata": {
  "kernelspec": {
   "display_name": "Python 3",
   "language": "python",
   "name": "python3"
  },
  "language_info": {
   "codemirror_mode": {
    "name": "ipython",
    "version": 3
   },
   "file_extension": ".py",
   "mimetype": "text/x-python",
   "name": "python",
   "nbconvert_exporter": "python",
   "pygments_lexer": "ipython3",
   "version": "3.8.10"
  }
 },
 "nbformat": 4,
 "nbformat_minor": 5
}
